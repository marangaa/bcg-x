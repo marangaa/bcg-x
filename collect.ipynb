{
 "cells": [
  {
   "cell_type": "code",
   "execution_count": 4,
   "metadata": {},
   "outputs": [],
   "source": [
    "from sec_edgar_downloader import Downloader\n",
    "\n",
    "dl = Downloader(company_name=\"new_company\", email_address=\"ratramosta@gufum.com\",)\n",
    "\n",
    "companies = [\"MSFT\", \"AAPl\", \"TSLA\" ]\n",
    "\n",
    "for company in companies:\n",
    "    dl.get(\"10-K\", company, after=\"2021-01-01\",)"
   ]
  }
 ],
 "metadata": {
  "kernelspec": {
   "display_name": ".venv",
   "language": "python",
   "name": "python3"
  },
  "language_info": {
   "codemirror_mode": {
    "name": "ipython",
    "version": 3
   },
   "file_extension": ".py",
   "mimetype": "text/x-python",
   "name": "python",
   "nbconvert_exporter": "python",
   "pygments_lexer": "ipython3",
   "version": "3.12.2"
  }
 },
 "nbformat": 4,
 "nbformat_minor": 2
}
