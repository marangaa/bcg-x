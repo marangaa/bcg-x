{
 "cells": [
  {
   "cell_type": "code",
   "execution_count": 15,
   "id": "initial_id",
   "metadata": {
    "collapsed": true,
    "ExecuteTime": {
     "end_time": "2024-03-26T10:20:16.766851Z",
     "start_time": "2024-03-26T10:20:16.760552Z"
    }
   },
   "outputs": [],
   "source": [
    "API_KEY = '9c828451937667aeaae25fa14b02c9db352873f579c96c07e3effe146ac0bec5'"
   ]
  },
  {
   "cell_type": "code",
   "outputs": [],
   "source": [
    "from sec_api import ExtractorApi\n",
    "\n",
    "extractor_api = ExtractorApi(API_KEY)"
   ],
   "metadata": {
    "collapsed": false,
    "ExecuteTime": {
     "end_time": "2024-03-26T10:20:16.856996Z",
     "start_time": "2024-03-26T10:20:16.851865Z"
    }
   },
   "id": "315f49152547db0",
   "execution_count": 16
  },
  {
   "cell_type": "code",
   "outputs": [],
   "source": [
    "# helper function to pretty print long, single-line text to multi-line text\n",
    "def pprint(text, line_length=100):\n",
    "  words = text.split(' ')\n",
    "  lines = []\n",
    "  current_line = ''\n",
    "  for word in words:\n",
    "    if len(current_line + ' ' + word) <= line_length:\n",
    "      current_line += ' ' + word\n",
    "    else:\n",
    "      lines.append(current_line.strip())\n",
    "      current_line = word\n",
    "  if current_line:\n",
    "    lines.append(current_line.strip())\n",
    "  print('\\n'.join(lines))"
   ],
   "metadata": {
    "collapsed": false,
    "ExecuteTime": {
     "end_time": "2024-03-26T10:20:16.899822Z",
     "start_time": "2024-03-26T10:20:16.891012Z"
    }
   },
   "id": "36c96f858a1dc01",
   "execution_count": 17
  },
  {
   "cell_type": "code",
   "outputs": [],
   "source": [
    "# 10-K filing URL for Microsoft\n",
    "microsoft_filing_23 = \"https://www.sec.gov/ix?doc=/Archives/edgar/data/0000789019/000095017023035122/msft-20230630.htm\"\n",
    "microsoft_filing_22 = \"https://www.sec.gov/ix?doc=/Archives/edgar/data/0000789019/000156459022026876/msft-10k_20220630.htm\"\n",
    "microsoft_filing_21 = \"https://www.sec.gov/ix?doc=/Archives/edgar/data/0000789019/000156459021039151/msft-10k_20210630.htm\"\n",
    "\n",
    "# 10-k filing URLs for Tesla\n",
    "tesla_filing_24 = \"https://www.sec.gov/ix?doc=/Archives/edgar/data/0001318605/000162828024002390/tsla-20231231.htm\"\n",
    "\n"
   ],
   "metadata": {
    "collapsed": false,
    "ExecuteTime": {
     "end_time": "2024-03-26T10:20:16.928932Z",
     "start_time": "2024-03-26T10:20:16.920841Z"
    }
   },
   "id": "a33d1f0bad9b74c1",
   "execution_count": 18
  },
  {
   "cell_type": "code",
   "outputs": [
    {
     "name": "stdout",
     "output_type": "stream",
     "text": [
      "Extracted Item 7 (Management’s Discussion and Analysis of Financial Condition and Results of Operations)\n",
      "-----------------------\n",
      "ITEM 7. MANAGEMENT&#8217;S DISCUSSION AND ANALYSIS OF FINANCIAL CONDITION AND RESULTS OF\n",
      "OPERATIONS \n",
      "\n",
      "The following discussion and analysis should be read in conjunction with the\n",
      "consolidated financial statements and the related notes included elsewhere in this Annual Report on\n",
      "Form 10-K. For further discussion of our products and services, technology and competitive\n",
      "strengths, refer to Item 1- Business. For discussion related to changes in financial condition and\n",
      "the results of operations for fiscal year 2022-related items, refer to Part II, Item 7.\n",
      "Management&#8217;s Discussion and Analysis of Financial Condition and Results of Operations in our\n",
      "Annual Report on Form 10-K for fiscal year 2022, which was filed with the Securities and Exchange\n",
      "Commission on January 31, 2023. \n",
      "\n",
      "Overview and 2023 Highlights \n",
      "\n",
      "Our mission is to accelerate the\n",
      "world&#8217;s transition to sustainable energy. We design, develop, manufacture, lease and sell\n",
      "high-performance fully electric vehicles, solar energy generation systems and energy storage\n",
      "products. We also offer maintenance, installation, operation, charging, insurance, financial and\n",
      "other services related to our products. Additionally, we are increasingly focused on products and\n",
      "services based on artificial intelligence, robotics and automation. \n",
      "\n",
      "In 2023, we produced 1,845,985\n",
      "consumer vehicles and delivered 1,808,581 consumer vehicles. We are currently focused on increasing\n",
      "vehicle production, capacity and delivery capabilities, reduci\n",
      "... cut for brevity\n",
      "-----------------------\n"
     ]
    }
   ],
   "source": [
    "# extract text section \"Item 1 - Business\" from 10-K\n",
    "item_7_text = extractor_api.get_section(tesla_filing_24, '7', 'text')\n",
    "\n",
    "print('Extracted Item 7 (Management’s Discussion and Analysis of Financial Condition and Results of Operations)')\n",
    "print('-----------------------')\n",
    "pprint(item_7_text[0:1500])\n",
    "print('... cut for brevity')\n",
    "print('-----------------------')"
   ],
   "metadata": {
    "collapsed": false,
    "ExecuteTime": {
     "end_time": "2024-03-26T10:20:19.664632Z",
     "start_time": "2024-03-26T10:20:16.957945Z"
    }
   },
   "id": "85a6a2ce5bd606ee",
   "execution_count": 19
  },
  {
   "cell_type": "code",
   "outputs": [],
   "source": [
    "from IPython.display import display,HTML"
   ],
   "metadata": {
    "collapsed": false,
    "ExecuteTime": {
     "end_time": "2024-03-26T10:20:19.673172Z",
     "start_time": "2024-03-26T10:20:19.667647Z"
    }
   },
   "id": "45319781f9879dec",
   "execution_count": 20
  },
  {
   "cell_type": "code",
   "outputs": [
    {
     "name": "stdout",
     "output_type": "stream",
     "text": [
      "Extracted Item 7 (HTML)\n",
      "-----------------------\n"
     ]
    },
    {
     "data": {
      "text/plain": "<IPython.core.display.HTML object>",
      "text/html": "<span style=\"color:#000000;font-family:'Times New Roman',sans-serif;font-size:10pt;font-weight:700;line-height:120%\">ITEM 7. MANAGEMENT&#8217;S DISCUSSION AND ANALYSIS OF FINANCIAL CONDITION AND RESULTS OF OPERATIONS</span></div><div style=\"margin-top:6pt;text-indent:27.74pt\"><span style=\"color:#000000;font-family:'Times New Roman',sans-serif;font-size:10pt;font-style:italic;font-weight:400;line-height:120%\">The following discussion and analysis should be read in conjunction with the consolidated financial statements and the related notes included elsewhere in this Annual Report on Form 10-K. For further discussion of our products and services, technology and competitive strengths, refer to Item 1- Business. For discussion related to changes in financial condition and the results of operations for fiscal year 2022-related items, refer to Part II, Item 7. Management&#8217;s Discussion and Analysis of Financial Condition and Results of Operations in our Annual Report on Form 10-K for fiscal year 2022, which was filed with the Securities and Exchange Commission on January 31, 2023.</span></div><div id=\"i605b1b87e9dd4fc1a8af0ddafef749a2_46\"></div><div style=\"margin-top:14pt\"><span style=\"color:#000000;font-family:'Times New Roman',sans-serif;font-size:10pt;font-weight:700;line-height:120%\">Overview and 2023 Highlights</span></div><div style=\"margin-top:6pt;text-indent:27.74pt\"><span style=\"color:#000000;font-family:'Times New Roman',sans-serif;font-size:10pt;font-weight:400;line-height:120%\">Our mission is to accelerate the world&#8217;s transition to sustainable energy. We design, develop, manufacture, lease and sell high-performance fully electric vehicles, solar energy generation systems and energy storage products. We also offer maintenance, installation, operation, charging, insurance, financial and other services related to our products. Additionally, we are increasingly focused on products and services based on artificial intelligence, robotics and automation.</span></div><div style=\"margin-top:12pt;text-indent:27.74pt\"><span style=\"color:#000000;font-family:'Times New Roman',sans-serif;font-size:10pt;font-weight:400;line-height:120%\">In 2023, we produced 1,845,985 consumer vehicles and delivered 1,808,581 consumer vehicles. We are currently focused on increasing vehicle production, capacity and delivery capabilities, reducing costs, improving and developing our vehicles and battery technologies, vertically integrating and localizing our supply chain, improving and further deploying our FSD capabilities, increasing the affordability and efficiency of our vehicles, bringing new products to market and expanding our global infrastructure, including our service and charging infrastructure.</span></div><div style=\"margin-top:12pt;text-indent:27.74pt\"><span style=\"color:#000000;font-family:'Times New Roman',sans-serif;font-size:10pt;font-weight:400;line-height:120%\">In 2023, we deployed 14.72 GWh of energy storage products and 223 megawatts of solar"
     },
     "metadata": {},
     "output_type": "display_data"
    },
    {
     "name": "stdout",
     "output_type": "stream",
     "text": [
      "... cut for brevity\n",
      "-----------------------\n"
     ]
    }
   ],
   "source": [
    "# extract HTML section \"Item 7 - managements discussion and analysis\" from 10-K\n",
    "item_7_html = extractor_api.get_section(tesla_filing_24, '7', 'html')\n",
    "\n",
    "print('Extracted Item 7 (HTML)')\n",
    "print('-----------------------')\n",
    "display(HTML(item_7_html[0:3000]))\n",
    "print('... cut for brevity')\n",
    "print('-----------------------')"
   ],
   "metadata": {
    "collapsed": false,
    "ExecuteTime": {
     "end_time": "2024-03-26T10:21:19.349166Z",
     "start_time": "2024-03-26T10:21:16.735181Z"
    }
   },
   "id": "b8084b2b62c9b4fc",
   "execution_count": 24
  },
  {
   "cell_type": "markdown",
   "source": [
    "Extracting  \"Item 6 - Financial Data\" from 10-K Filings"
   ],
   "metadata": {
    "collapsed": false
   },
   "id": "d46e8a125fdec7a4"
  },
  {
   "cell_type": "code",
   "outputs": [],
   "source": [
    "# extract the HTML version of section \"Item 6 - Selected Financial Data\"\n",
    "item_6_html = extractor_api.get_section(tesla_filing_24, '6', 'html')"
   ],
   "metadata": {
    "collapsed": false,
    "ExecuteTime": {
     "end_time": "2024-03-26T10:21:44.452968Z",
     "start_time": "2024-03-26T10:21:42.158814Z"
    }
   },
   "id": "8568af3de1d1b046",
   "execution_count": 25
  },
  {
   "cell_type": "code",
   "outputs": [
    {
     "name": "stdout",
     "output_type": "stream",
     "text": [
      "Extracted Item 6 (HTML)\n",
      "-----------------------\n"
     ]
    },
    {
     "data": {
      "text/plain": "<IPython.core.display.HTML object>",
      "text/html": "<span style=\"color:#000000;font-family:'Times New Roman',sans-serif;font-size:10pt;font-weight:700;line-height:120%\">ITEM 6. [RESERVED]</span></div><div style=\"height:36pt;position:relative;width:100%\"><div style=\"bottom:0;position:absolute;width:100%\"><div style=\"text-align:center\"><span style=\"color:#000000;font-family:'Times New Roman',sans-serif;font-size:10pt;font-weight:400;line-height:120%\">32</span></div></div></div><div id=\"i605b1b87e9dd4fc1a8af0ddafef749a2_43\"></div><hr style=\"page-break-after:always\"/><div style=\"min-height:36pt;width:100%\"><div><span><br/></span></div></div><div style=\"margin-top:18pt\">"
     },
     "metadata": {},
     "output_type": "display_data"
    },
    {
     "name": "stdout",
     "output_type": "stream",
     "text": [
      "... cut for brevity\n",
      "-----------------------\n"
     ]
    }
   ],
   "source": [
    "print('Extracted Item 6 (HTML)')\n",
    "print('-----------------------')\n",
    "display(HTML(item_6_html[0:150000]))\n",
    "print('... cut for brevity')\n",
    "print('-----------------------')"
   ],
   "metadata": {
    "collapsed": false,
    "ExecuteTime": {
     "end_time": "2024-03-26T10:21:46.244118Z",
     "start_time": "2024-03-26T10:21:46.230738Z"
    }
   },
   "id": "6128c77e248b61a3",
   "execution_count": 26
  }
 ],
 "metadata": {
  "kernelspec": {
   "display_name": "Python 3",
   "language": "python",
   "name": "python3"
  },
  "language_info": {
   "codemirror_mode": {
    "name": "ipython",
    "version": 2
   },
   "file_extension": ".py",
   "mimetype": "text/x-python",
   "name": "python",
   "nbconvert_exporter": "python",
   "pygments_lexer": "ipython2",
   "version": "2.7.6"
  }
 },
 "nbformat": 4,
 "nbformat_minor": 5
}
