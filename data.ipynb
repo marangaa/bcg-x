{
 "cells": [
  {
   "cell_type": "code",
   "execution_count": null,
   "metadata": {},
   "outputs": [],
   "source": [
    "import os\n",
    "import requests\n",
    "import json\n",
    "import pandas as pd\n",
    "\n",
    "# Set the API key as an environment variable\n",
    "api_key = os.environ.get('API_KEY')\n",
    "\n",
    "# 10-K filing URL for Microsoft\n",
    "filing_url_23 = \"https://www.sec.gov/ix?doc=/Archives/edgar/data/0000789019/000095017023035122/msft-20230630.htm\"\n",
    "filing_url_22 = \"https://www.sec.gov/ix?doc=/Archives/edgar/data/0000789019/000156459022026876/msft-10k_20220630.htm\"\n",
    "filing_url_21 = \"https://www.sec.gov/ix?doc=/Archives/edgar/data/0000789019/000156459021039151/msft-10k_20210630.htm\"\n",
    "\n",
    "# XBRL-to-JSON converter API endpoint\n",
    "xbrl_converter_api_endpoint = \"https://api.sec-api.io/xbrl-to-json\"\n",
    "\n",
    "# Check if the API key is set\n",
    "if api_key is None:\n",
    "    raise ValueError(\"API_KEY environment variable is not set\")\n",
    "\n",
    "# Construct the final URL\n",
    "final_url = xbrl_converter_api_endpoint + \"?htm-url=\" + filing_url_21 + \"&token=\" + api_key\n",
    "\n",
    "# Make request to the API\n",
    "response = requests.get(final_url)\n",
    "\n",
    "# Load JSON into memory\n",
    "xbrl_json = json.loads(response.text)\n",
    "\n",
    "# Income statement example\n",
    "print(xbrl_json['StatementsOfIncome'])"
   ]
  },
  {
   "cell_type": "code",
   "execution_count": null,
   "metadata": {},
   "outputs": [],
   "source": [
    "# convert XBRL-JSON of income statement to pandas dataframe\n",
    "def get_income_statement(xbrl_json):\n",
    "    income_statement_store = {}\n",
    "\n",
    "    # iterate over each US GAAP item in the income statement\n",
    "    for usGaapItem in xbrl_json['StatementsOfIncome']:\n",
    "        values = []\n",
    "        indicies = []\n",
    "\n",
    "        for fact in xbrl_json['StatementsOfIncome'][usGaapItem]:\n",
    "            # only consider items without segment. not required for our analysis.\n",
    "            if 'segment' not in fact:\n",
    "                index = fact['period']['startDate'] + '-' + fact['period']['endDate']\n",
    "                # ensure no index duplicates are created\n",
    "                if index not in indicies:\n",
    "                    values.append(fact['value'])\n",
    "                    indicies.append(index)                    \n",
    "\n",
    "        income_statement_store[usGaapItem] = pd.Series(values, index=indicies) \n",
    "\n",
    "    income_statement = pd.DataFrame(income_statement_store)\n",
    "    # switch columns and rows so that US GAAP items are rows and each column header represents a date range\n",
    "    return income_statement.T \n",
    "\n",
    "income_statement = get_income_statement(xbrl_json)"
   ]
  },
  {
   "cell_type": "code",
   "execution_count": null,
   "metadata": {},
   "outputs": [],
   "source": [
    "print(income_statement)"
   ]
  },
  {
   "cell_type": "code",
   "execution_count": null,
   "metadata": {},
   "outputs": [],
   "source": [
    "# convert XBRL-JSON of balance sheet to pandas dataframe\n",
    "def get_balance_sheet(xbrl_json):\n",
    "    balance_sheet_store = {}\n",
    "\n",
    "    for usGaapItem in xbrl_json['BalanceSheets']:\n",
    "        values = []\n",
    "        indicies = []\n",
    "\n",
    "        for fact in xbrl_json['BalanceSheets'][usGaapItem]:\n",
    "            # only consider items without segment.\n",
    "            if 'segment' not in fact:\n",
    "                index = fact['period']['instant']\n",
    "\n",
    "                # avoid duplicate indicies with same values\n",
    "                if index in indicies:\n",
    "                    continue\n",
    "                    \n",
    "                # add 0 if value is nil\n",
    "                if \"value\" not in fact:\n",
    "                    values.append(0)\n",
    "                else:\n",
    "                    values.append(fact['value'])\n",
    "\n",
    "                indicies.append(index)                    \n",
    "\n",
    "            balance_sheet_store[usGaapItem] = pd.Series(values, index=indicies) \n",
    "\n",
    "    balance_sheet = pd.DataFrame(balance_sheet_store)\n",
    "    # switch columns and rows so that US GAAP items are rows and each column header represents a date instant\n",
    "    return balance_sheet.T\n",
    "\n",
    "balance_sheet = get_balance_sheet(xbrl_json)"
   ]
  },
  {
   "cell_type": "code",
   "execution_count": null,
   "metadata": {},
   "outputs": [],
   "source": [
    "print(balance_sheet)"
   ]
  },
  {
   "cell_type": "code",
   "execution_count": null,
   "metadata": {},
   "outputs": [],
   "source": [
    "def get_cash_flow_statement(xbrl_json):\n",
    "    cash_flows_store = {}\n",
    "\n",
    "    for usGaapItem in xbrl_json['StatementsOfCashFlows']:\n",
    "        values = []\n",
    "        indicies = []\n",
    "\n",
    "        for fact in xbrl_json['StatementsOfCashFlows'][usGaapItem]:        \n",
    "            # only consider items without segment.\n",
    "            if 'segment' not in fact:\n",
    "                # check if date instant or date range is present\n",
    "                if \"instant\" in fact['period']:\n",
    "                    index = fact['period']['instant']\n",
    "                else:\n",
    "                    index = fact['period']['startDate'] + '-' + fact['period']['endDate']\n",
    "\n",
    "                # avoid duplicate indicies with same values\n",
    "                if index in indicies:\n",
    "                    continue\n",
    "\n",
    "                if \"value\" not in fact:\n",
    "                    values.append(0)\n",
    "                else:\n",
    "                    values.append(fact['value'])\n",
    "\n",
    "                indicies.append(index)                    \n",
    "\n",
    "        cash_flows_store[usGaapItem] = pd.Series(values, index=indicies) \n",
    "\n",
    "\n",
    "    cash_flows = pd.DataFrame(cash_flows_store)\n",
    "    return cash_flows.T\n",
    "    \n",
    "cash_flows = get_cash_flow_statement(xbrl_json)"
   ]
  },
  {
   "cell_type": "code",
   "execution_count": null,
   "metadata": {},
   "outputs": [],
   "source": [
    "print(balance_sheet)"
   ]
  }
 ],
 "metadata": {
  "kernelspec": {
   "display_name": ".venv",
   "language": "python",
   "name": "python3"
  },
  "language_info": {
   "codemirror_mode": {
    "name": "ipython",
    "version": 3
   },
   "file_extension": ".py",
   "mimetype": "text/x-python",
   "name": "python",
   "nbconvert_exporter": "python",
   "pygments_lexer": "ipython3",
   "version": "3.12.2"
  }
 },
 "nbformat": 4,
 "nbformat_minor": 2
}
